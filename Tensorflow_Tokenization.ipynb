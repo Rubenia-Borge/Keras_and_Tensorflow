{
  "nbformat": 4,
  "nbformat_minor": 0,
  "metadata": {
    "colab": {
      "name": "Tensorflow_Tokenization.ipynb",
      "provenance": [],
      "collapsed_sections": []
    },
    "kernelspec": {
      "name": "python3",
      "display_name": "Python 3"
    },
    "language_info": {
      "name": "python"
    }
  },
  "cells": [
    {
      "cell_type": "code",
      "metadata": {
        "id": "GgRdUt1ypDMA"
      },
      "source": [
        ""
      ],
      "execution_count": null,
      "outputs": []
    },
    {
      "cell_type": "markdown",
      "metadata": {
        "id": "sv4m6NcPpiLg"
      },
      "source": [
        "Tokenization with Tensorflow"
      ]
    },
    {
      "cell_type": "code",
      "metadata": {
        "colab": {
          "base_uri": "https://localhost:8080/"
        },
        "id": "CrvUK-IMp6KX",
        "outputId": "f14930e2-af9b-4b7e-b99b-692ed88e2847"
      },
      "source": [
        "from tensorflow.keras.preprocessing.text import Tokenizer\n",
        "\n",
        "sentences = [             \n",
        "  \"Smart people:\",\n",
        "  \"1. Change their mind.\",\n",
        "  \"2. Read and write more.\",\n",
        "  \"3. Have great manners.\"           \n",
        "\n",
        "]\n",
        "\n",
        "\n",
        "tokenizer = Tokenizer(num_words = 100)\n",
        "tokenizer.fit_on_texts(sentences)\n",
        "word_index = tokenizer.word_index\n",
        "print(word_index)"
      ],
      "execution_count": null,
      "outputs": [
        {
          "output_type": "stream",
          "text": [
            "{'smart': 1, 'people': 2, '1': 3, 'change': 4, 'their': 5, 'mind': 6, '2': 7, 'read': 8, 'and': 9, 'write': 10, 'more': 11, '3': 12, 'have': 13, 'great': 14, 'manners': 15}\n"
          ],
          "name": "stdout"
        }
      ]
    },
    {
      "cell_type": "code",
      "metadata": {
        "colab": {
          "base_uri": "https://localhost:8080/"
        },
        "id": "T7kk-pDfiSdz",
        "outputId": "a206bcbf-bf96-47cd-e96e-60b00dfc75fb"
      },
      "source": [
        "from tensorflow.keras.preprocessing.text import Tokenizer\n",
        "\n",
        "sentences = [            \n",
        "  \n",
        "  \"4. Talk less but say more.\",\n",
        "  \"5. Stay teachable.\",\n",
        "  \"6. Show gratitude.\"           \n",
        "\n",
        "]\n",
        "\n",
        "tokenizer = Tokenizer(num_words = 100)\n",
        "tokenizer.fit_on_texts(sentences)\n",
        "word_index = tokenizer.word_index\n",
        "print(word_index)"
      ],
      "execution_count": 2,
      "outputs": [
        {
          "output_type": "stream",
          "text": [
            "{'4': 1, 'talk': 2, 'less': 3, 'but': 4, 'say': 5, 'more': 6, '5': 7, 'stay': 8, 'teachable': 9, '6': 10, 'show': 11, 'gratitude': 12}\n"
          ],
          "name": "stdout"
        }
      ]
    },
    {
      "cell_type": "code",
      "metadata": {
        "colab": {
          "base_uri": "https://localhost:8080/"
        },
        "id": "e1MDnFd0izZ7",
        "outputId": "54e76e04-6552-4b06-c277-97cf569df9b5"
      },
      "source": [
        "sentences = [            \n",
        "  \n",
        "  \"7. Ask more questions.\",\n",
        "  \"8. Work on problems longer.\",\n",
        "  \"9. Anticipate outcomes.\"           \n",
        "\n",
        "]\n",
        "\n",
        "tokenizer = Tokenizer(num_words = 100)\n",
        "tokenizer.fit_on_texts(sentences)\n",
        "word_index = tokenizer.word_index\n",
        "print(word_index)"
      ],
      "execution_count": 3,
      "outputs": [
        {
          "output_type": "stream",
          "text": [
            "{'7': 1, 'ask': 2, 'more': 3, 'questions': 4, '8': 5, 'work': 6, 'on': 7, 'problems': 8, 'longer': 9, '9': 10, 'anticipate': 11, 'outcomes': 12}\n"
          ],
          "name": "stdout"
        }
      ]
    },
    {
      "cell_type": "code",
      "metadata": {
        "colab": {
          "base_uri": "https://localhost:8080/"
        },
        "id": "mIFnh9iMjG3B",
        "outputId": "302da306-ba5b-43b5-8552-e43b8bfafa47"
      },
      "source": [
        "sentences = [            \n",
        "  \n",
        "  \"10. Have smarter friends.\",\n",
        "  \"11. Seek feedback.\",\n",
        "  \"12. This list will surely change.\"           \n",
        "\n",
        "]\n",
        "\n",
        "tokenizer = Tokenizer(num_words = 100)\n",
        "tokenizer.fit_on_texts(sentences)\n",
        "word_index = tokenizer.word_index\n",
        "print(word_index)"
      ],
      "execution_count": 4,
      "outputs": [
        {
          "output_type": "stream",
          "text": [
            "{'10': 1, 'have': 2, 'smarter': 3, 'friends': 4, '11': 5, 'seek': 6, 'feedback': 7, '12': 8, 'this': 9, 'list': 10, 'will': 11, 'surely': 12, 'change': 13}\n"
          ],
          "name": "stdout"
        }
      ]
    }
  ]
}